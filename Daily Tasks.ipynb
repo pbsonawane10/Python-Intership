{
  "nbformat": 4,
  "nbformat_minor": 0,
  "metadata": {
    "colab": {
      "name": "T1_GRIP.ipnyb",
      "provenance": []
    },
    "kernelspec": {
      "name": "Python 3.7.4 64-bit",
      "display_name": "Python 3.7.4 64-bit",
      "metadata": {
        "interpreter": {
          "hash": "60eb1d0f96393a1e0420bb6ca0f5435a81d9c3ff4319ce3c90a222065ab89d85"
        }
      }
    }
  },
  "cells": [
    {
      "cell_type": "markdown",
      "metadata": {
        "id": "DicvIUtJPjbC"
      },
      "source": [
        "# **BestEnlist Python Internship daily tasks**"
      ]
    },
    {
      "cell_type": "markdown",
      "metadata": {
        "id": "h_N2SWtOJfGy"
      },
      "source": [
        "### **Author : PAWAN BALIRAM SONAWANE**\n",
        "\n",
        "Daily tasks Notebook. "
      ]
    },
    {
      "cell_type": "markdown",
      "metadata": {
        "id": "fV3OmNKKabQt"
      },
      "source": [
        "### **Day 1 - 23 Nov 2020**"
      ]
    },
    {
      "cell_type": "code",
      "metadata": {
        "id": "kyONNvJMT7vl"
      },
      "source": [
        "Sentence = \"30 Days and 30 Hour Challenge\"\n",
        "print(Sentence)\n",
        "print(Sentence[1:])"
      ],
      "execution_count": 16,
      "outputs": [
        {
          "output_type": "stream",
          "name": "stdout",
          "text": [
            "30 Days and 30 Hour Challenge\n0 Days and 30 Hour Challenge\n"
          ]
        }
      ]
    },
    {
      "source": [
        "### **Day 2 - 24 Nov 2020**"
      ],
      "cell_type": "markdown",
      "metadata": {}
    },
    {
      "cell_type": "code",
      "execution_count": 17,
      "metadata": {},
      "outputs": [
        {
          "output_type": "stream",
          "name": "stdout",
          "text": [
            "1.0 500 70\n"
          ]
        }
      ],
      "source": [
        "# Task 1\n",
        "a = b = c = 10\n",
        "a /= 10\n",
        "b *= 50\n",
        "c += 60\n",
        "print(a, b, c)"
      ]
    },
    {
      "cell_type": "code",
      "execution_count": 18,
      "metadata": {},
      "outputs": [
        {
          "output_type": "stream",
          "name": "stdout",
          "text": [
            "HoGse\n"
          ]
        }
      ],
      "source": [
        "# Task 2\n",
        "variable = \"House\"\n",
        "variable = variable.replace(\"u\", \"G\")\n",
        "print(variable)"
      ]
    },
    {
      "cell_type": "code",
      "execution_count": 20,
      "metadata": {},
      "outputs": [
        {
          "output_type": "stream",
          "name": "stdout",
          "text": [
            "10.0 12\n"
          ]
        }
      ],
      "source": [
        "# Task 3\n",
        "a, b = 10, 12.6\n",
        "a = float(a)\n",
        "b = int(b)\n",
        "print(a, b)"
      ]
    },
    {
      "source": [
        "### **Day 3 - 25 Nov 2020**"
      ],
      "cell_type": "markdown",
      "metadata": {}
    },
    {
      "cell_type": "code",
      "execution_count": 12,
      "metadata": {},
      "outputs": [
        {
          "output_type": "stream",
          "name": "stdout",
          "text": [
            "{'Mumbai': 'Jalgaon', 'Nashik': 'Pune', 'Surat': 'Goa', 'Pune': 'Nagpur', 'Thane': 'Airoli'}\n"
          ]
        }
      ],
      "source": [
        "# Task 1\n",
        "Location1 = {\"Mumbai\" : \"Jalgaon\",\n",
        "            \"Nashik\" : \"Pune\",\n",
        "            \"Surat\" : \"Goa\"}\n",
        "Location2 = {\"Pune\" : \"Nagpur\",\n",
        "            \"Thane\" : \"Airoli\"}\n",
        "Location1.update(Location2)\n",
        "print(Location1)"
      ]
    },
    {
      "cell_type": "code",
      "execution_count": 15,
      "metadata": {},
      "outputs": [
        {
          "output_type": "stream",
          "name": "stdout",
          "text": [
            "{'Mumbai': 'Jalgaon', 'Nashik': 'Pune', 'Pune': 'Nagpur', 'Thane': 'Airoli'}\n"
          ]
        }
      ],
      "source": [
        "# Task 2\n",
        "del Location1['Surat'] \n",
        "print(Location1)"
      ]
    },
    {
      "cell_type": "code",
      "execution_count": 14,
      "metadata": {},
      "outputs": [
        {
          "output_type": "stream",
          "name": "stdout",
          "text": [
            "{'Nagpur': 'Maharashtra', 'Chennai': 'TN', 'Bangalore': 'Karnataka'}\n"
          ]
        }
      ],
      "source": [
        "# Task 3\n",
        "City = [\"Nagpur\", \"Chennai\", \"Bangalore\"] \n",
        "State = [\"Maharashtra\", \"TN\", \"Karnataka\"]\n",
        "Location3 = dict(zip(City, State))\n",
        "print(Location3)"
      ]
    },
    {
      "cell_type": "code",
      "execution_count": 7,
      "metadata": {},
      "outputs": [
        {
          "output_type": "stream",
          "name": "stdout",
          "text": [
            "5\n"
          ]
        }
      ],
      "source": [
        "# Task 4\n",
        "names = {\"Pawan\", \"Rahul\", \"Pranav\", \"Vaibhav\", \"Mayur\"}\n",
        "print(len(names))"
      ]
    },
    {
      "cell_type": "code",
      "execution_count": 8,
      "metadata": {},
      "outputs": [
        {
          "output_type": "stream",
          "name": "stdout",
          "text": [
            "set()\n"
          ]
        }
      ],
      "source": [
        "# Task 5\n",
        "moreNames = {\"Harshal\", \"Sahil\", \"Gaurav\", \"Date\", \"Rushi\"}\n",
        "intersectedNames = names.intersection(moreNames)\n",
        "print(intersectedNames)"
      ]
    },
    {
      "source": [
        "### **Day 4 - 26 Nov 2020**"
      ],
      "cell_type": "markdown",
      "metadata": {}
    },
    {
      "cell_type": "code",
      "execution_count": 17,
      "metadata": {},
      "outputs": [
        {
          "output_type": "stream",
          "name": "stdout",
          "text": [
            "[0, 1, 2, 3, 4, 5, 6, 7, 8, 9]\n"
          ]
        }
      ],
      "source": [
        "n = int(input(\"The value of n is:\"))\n",
        "nums = list(range(0, n))\n",
        "print(nums)"
      ]
    },
    {
      "cell_type": "code",
      "execution_count": 18,
      "metadata": {},
      "outputs": [
        {
          "output_type": "stream",
          "name": "stdout",
          "text": [
            "The appended list is  [0, 1, 2, 3, 4, 5, 6, 7, 8, 9, 10]\nThe list is after deleting is  [0, 1, 2, 4, 5, 6, 7, 8, 9, 10]\nThe max num is  10\nThe min num is  0\n"
          ]
        }
      ],
      "source": [
        "# Task 1\n",
        "nums.append(10)\n",
        "print(\"The appended list is \", nums)\n",
        "del nums[3]\n",
        "print(\"The list is after deleting is \", nums)\n",
        "max_num = max(nums)\n",
        "min_num = min(nums)\n",
        "print(\"The max num is \", max_num)\n",
        "print(\"The min num is \", min_num)"
      ]
    },
    {
      "cell_type": "code",
      "execution_count": 19,
      "metadata": {},
      "outputs": [
        {
          "output_type": "stream",
          "name": "stdout",
          "text": [
            "(9, 6, 5, 4, 1)\n"
          ]
        }
      ],
      "source": [
        "# Task 2\n",
        "nums_tuple = (1, 4, 5, 6, 9)\n",
        "print(nums_tuple[::-1])"
      ]
    },
    {
      "cell_type": "code",
      "execution_count": 21,
      "metadata": {},
      "outputs": [
        {
          "output_type": "execute_result",
          "data": {
            "text/plain": [
              "list"
            ]
          },
          "metadata": {},
          "execution_count": 21
        }
      ],
      "source": [
        "# Task 3\n",
        "nums_tuple2 = (1, 4, 5, 7, 9)\n",
        "nums_tuple2 = list(nums_tuple2)\n",
        "type(nums_tuple2)"
      ]
    },
    {
      "source": [
        "### **Day 5 - 27 Nov 2020**"
      ],
      "cell_type": "markdown",
      "metadata": {}
    },
    {
      "cell_type": "code",
      "execution_count": 1,
      "metadata": {},
      "outputs": [
        {
          "output_type": "stream",
          "name": "stdout",
          "text": [
            "Addition of two numbers is  5\nSubtraction of two numbers is  -1\nDivision of two numbers is  0.6666666666666666\nMultiplication of two numbers is  6\n"
          ]
        }
      ],
      "source": [
        "# Task 1\n",
        "a = int(input(\"Enter the first no.\"))           # a = 2\n",
        "b = int(input(\"Enter the second no.\"))          # b = 3\n",
        "def calculations(x, y):\n",
        "    print(\"Addition of two numbers is \", x+y)\n",
        "    print(\"Subtraction of two numbers is \", x-y)\n",
        "    print(\"Division of two numbers is \", x/y)\n",
        "    print(\"Multiplication of two numbers is \", x*y)\n",
        "\n",
        "calculations(a, b)"
      ]
    },
    {
      "cell_type": "code",
      "execution_count": 2,
      "metadata": {},
      "outputs": [
        {
          "output_type": "stream",
          "name": "stdout",
          "text": [
            "The name of patient is Vishal\nThe body temperature of the patient is  102\nThe name of patient is Tejas\nThe body temperature of the patient is  98\n"
          ]
        }
      ],
      "source": [
        "# Task 2\n",
        "def covid(name, temperature=\"98\"):\n",
        "   print(\"The name of patient is \" + name)\n",
        "   print(\"The body temperature of the patient is \", temperature)\n",
        "\n",
        "covid(\"Pawan\", 102)\n",
        "covid(\"Rajesh\")"
      ]
    },
    {
      "source": [
        "### **Day 6 - 28 Nov 2020**"
      ],
      "cell_type": "markdown",
      "metadata": {}
    },
    {
      "cell_type": "code",
      "execution_count": 7,
      "metadata": {},
      "outputs": [
        {
          "output_type": "stream",
          "name": "stdout",
          "text": [
            "[6, 5, 2, 10, 7]\nThe updated list is: [8, 7, 4, 12, 9]\n"
          ]
        }
      ],
      "source": [
        "# Task 1\n",
        "nums = [6, 5, 2, 10, 7]\n",
        "print(nums)\n",
        "nums = [i+2 for i in nums] \n",
        "print(\"The updated list is:\", nums)"
      ]
    },
    {
      "cell_type": "code",
      "execution_count": 8,
      "metadata": {},
      "outputs": [
        {
          "output_type": "stream",
          "name": "stdout",
          "text": [
            "5 4 3 2 1 \n4 3 2 1 \n3 2 1 \n2 1 \n1 \n\n"
          ]
        }
      ],
      "source": [
        "# Task 2\n",
        "x = 5\n",
        "for i in range(0, x + 1):\n",
        "    for j in range(x - i, 0, -1):\n",
        "        print(j, end=' ')\n",
        "    print()"
      ]
    },
    {
      "cell_type": "code",
      "execution_count": 14,
      "metadata": {},
      "outputs": [
        {
          "output_type": "stream",
          "name": "stdout",
          "text": [
            "The Fibonacci series upto 9 is: [0, 1, 1, 2, 3, 5, 8, 13, 21]\n"
          ]
        }
      ],
      "source": [
        "# Task 3\n",
        "n = int(input(\"Enter the number: \"))\n",
        "Fibonacci = [0, 1]\n",
        "if n <= 0:\n",
        "    print(\"The Fibonacci Series upto \" + str(n) + \" is: \", Fibonacci[0])\n",
        "else:\n",
        "    for x in range(2, n):\n",
        "        num = Fibonacci[x-2] + Fibonacci[x-1]\n",
        "        Fibonacci.append(num)\n",
        "print(\"The Fibonacci series upto \" + str(n) + \" is:\", Fibonacci)"
      ]
    },
    {
      "cell_type": "code",
      "execution_count": 16,
      "metadata": {},
      "outputs": [
        {
          "output_type": "stream",
          "name": "stdout",
          "text": [
            "153 is an Armstrong number\nNone\n"
          ]
        }
      ],
      "source": [
        "# Task 4\n",
        "def Armstrong(n): \n",
        "    n = int(input(\"Enter the number: \"))\n",
        "    sum = 0\n",
        "    temp = n\n",
        "\n",
        "    while temp > 0:  \n",
        "       digit = temp % 10\n",
        "       sum += digit ** 3  \n",
        "       temp //= 10  \n",
        "  \n",
        "    if n == sum:  \n",
        "        print(n, \"is an Armstrong number\")  \n",
        "    else:  \n",
        "        print(n, \"is not an Armstrong number\")  \n",
        "\n",
        "print(Armstrong(n))"
      ]
    },
    {
      "cell_type": "code",
      "execution_count": 18,
      "metadata": {},
      "outputs": [
        {
          "output_type": "stream",
          "name": "stdout",
          "text": [
            "9 * 1 = 9\n9 * 2 = 18\n9 * 3 = 27\n9 * 4 = 36\n9 * 5 = 45\n9 * 6 = 54\n9 * 7 = 63\n9 * 8 = 72\n9 * 9 = 81\n9 * 10 = 90\n"
          ]
        }
      ],
      "source": [
        "# Task 5\n",
        "for i in range(1, 11):\n",
        "    print(9,\"*\",i,\"=\",9*i)"
      ]
    },
    {
      "cell_type": "code",
      "execution_count": 20,
      "metadata": {},
      "outputs": [
        {
          "output_type": "stream",
          "name": "stdout",
          "text": [
            "10 is POSITIVE\n"
          ]
        }
      ],
      "source": [
        "# Task 6\n",
        "n = int(input(\"Enter the number: \"))\n",
        "if n==0:\n",
        "    print(n,\" is 0\")\n",
        "elif n>0:\n",
        "    print(n,\"is POSITIVE\")\n",
        "else:\n",
        "    print(n,\"is NEGATIVE\")"
      ]
    },
    {
      "cell_type": "code",
      "execution_count": 26,
      "metadata": {},
      "outputs": [
        {
          "output_type": "stream",
          "name": "stdout",
          "text": [
            "The Age for 600 days is 1 years and 33 weeks.\n"
          ]
        }
      ],
      "source": [
        "# Task 7\n",
        "days = int(input(\"Enter the number of days: \"))\n",
        "years = int(days/365)\n",
        "weeks = int((days % 365) / 7)\n",
        "print(\"The Age for\",days,\"days is\",years,\"years and\",weeks,\"weeks.\")"
      ]
    },
    {
      "cell_type": "code",
      "execution_count": 30,
      "metadata": {},
      "outputs": [
        {
          "output_type": "stream",
          "name": "stdout",
          "text": [
            "The sum of sin(π/3) and cos(π/4) is 1.2071067811865475\n"
          ]
        }
      ],
      "source": [
        "# Task 8\n",
        "import math\n",
        "sum_num = math.sin(math.pi/6) + math.cos(math.pi/4)\n",
        "print(\"The sum of sin(π/3) and cos(π/4) is\",sum_num)"
      ]
    },
    {
      "cell_type": "code",
      "execution_count": 31,
      "metadata": {},
      "outputs": [
        {
          "output_type": "stream",
          "name": "stdout",
          "text": [
            "Calculator\n",
            "Select: 1 -> Add  || 2 -> Substract || 3 -> Multiply || 4 -> Divide\n",
            "Multiplication of 4 and 5 is 20\n"
          ]
        }
      ],
      "source": [
        "# Task 9\n",
        "print(\"Calculator\")\n",
        "print(\"Select: 1 -> Add  || 2 -> Substract || 3 -> Multiply || 4 -> Divide\")\n",
        "operation = int(input(\"Enter the operation choice: \"))\n",
        "\n",
        "if operation == 1:\n",
        "    x = int(input(\"Enter operand 1:\"))\n",
        "    y = int(input(\"Enter operand 2:\"))\n",
        "    print(\"Addition of\",x,\"and\",y,\"is\",x+y)\n",
        "elif operation == 2:\n",
        "    x = int(input(\"Enter operand 1:\"))\n",
        "    y = int(input(\"Enter operand 2:\"))\n",
        "    print(\"Subtraction of\",x,\"and\",y,\"is\",x-y)\n",
        "elif operation == 3:\n",
        "    x = int(input(\"Enter operand 1:\"))\n",
        "    y = int(input(\"Enter operand 2:\"))\n",
        "    print(\"Multiplication of\",x,\"and\",y,\"is\",x*y)\n",
        "elif operation == 4:\n",
        "    x = int(input(\"Enter operand 1:\"))\n",
        "    y = int(input(\"Enter operand 2:\"))\n",
        "    print(\"Division of\",x,\"and\",y,\"is\",x/y)\n",
        "else:\n",
        "    print(\"Please make a valid Choice from 1 to 4\")"
      ]
    },
    {
      "source": [
        "### **Day 7 - 29 Nov 2020**"
      ],
      "cell_type": "markdown",
      "metadata": {}
    },
    {
      "cell_type": "code",
      "execution_count": 2,
      "metadata": {},
      "outputs": [
        {
          "output_type": "stream",
          "name": "stdout",
          "text": [
            "[1, 5, 8, 3, 54, 22, 99]\n"
          ]
        }
      ],
      "source": [
        "# Task 1\n",
        "import list as l\n",
        "l.my_list.append(99)\n",
        "print(l.my_list)"
      ]
    },
    {
      "cell_type": "code",
      "execution_count": 4,
      "metadata": {},
      "outputs": [],
      "source": [
        "# Task 2\n",
        "import pandas as pd"
      ]
    },
    {
      "cell_type": "code",
      "execution_count": 8,
      "metadata": {},
      "outputs": [
        {
          "output_type": "stream",
          "name": "stdout",
          "text": [
            "38\n62\n42\n"
          ]
        }
      ],
      "source": [
        "# Task 3\n",
        "import random as r\n",
        "x = r.randint(1, 100)\n",
        "print(x)\n",
        "y = r.randint(1, 100)\n",
        "print(y)\n",
        "z = r.randint(1, 100)\n",
        "print(z)"
      ]
    },
    {
      "source": [
        "# Task 4\n",
        "import sys\n",
        "sys.path"
      ],
      "cell_type": "code",
      "metadata": {},
      "execution_count": null,
      "outputs": []
    },
    {
      "source": [
        "### **Day 8 - 30 Nov 2020**"
      ],
      "cell_type": "markdown",
      "metadata": {}
    },
    {
      "source": [
        "## All Types of Errors\n",
        "AssertionError => Raised when an assert statement fails.\n",
        "\n",
        "AttributeError => Raised when attribute assignment or reference fails.\n",
        "\n",
        "EOFError => Raised when the input() function hits end-of-file condition.\n",
        "\n",
        "FloatingPointError => Raised when a floating point operation fails.\n",
        "\n",
        "GeneratorExit => Raise when a generator's close() method is called.\n",
        "\n",
        "ImportError => Raised when the imported module is not found.\n",
        "\n",
        "IndexError => Raised when the index of a sequence is out of range.\n",
        "\n",
        "KeyError => Raised when a key is not found in a dictionary.\n",
        "\n",
        "KeyboardInterrupt => Raised when the user hits the interrupt key (Ctrl+C or Delete).\n",
        "\n",
        "MemoryError => Raised when an operation runs out of memory.\n",
        "\n",
        "NameError => Raised when a variable is not found in local or global scope.\n",
        "\n",
        "NotImplementedError => Raised by abstract methods.\n",
        "\n",
        "OSError => Raised when system operation causes system related error.\n",
        "\n",
        "OverflowError => Raised when the result of an arithmetic operation is too large to be represented.\n",
        "\n",
        "ReferenceError => Raised when a weak reference proxy is used to access a garbage collected referent.\n",
        "\n",
        "RuntimeError => Raised when an error does not fall under any other category.\n",
        "\n",
        "StopIteration => Raised by next() function to indicate that there is no further item to be returned by iterator.\n",
        "\n",
        "SyntaxError => Raised by parser when syntax error is encountered.\n",
        "\n",
        "IndentationError => Raised when there is incorrect indentation.\n",
        "\n",
        "TabError => Raised when indentation consists of inconsistent tabs and spaces.\n",
        "\n",
        "SystemError => Raised when interpreter detects internal error.\n",
        "\n",
        "SystemExit => Raised by sys.exit() function.\n",
        "\n",
        "TypeError => Raised when a function or operation is applied to an object of incorrect type.\n",
        "\n",
        "UnboundLocalError => Raised when a reference is made to a local variable in a function or method, but no value has been bound to that \n",
        "variable.\n",
        "\n",
        "UnicodeError => Raised when a Unicode-related encoding or decoding error occurs.\n",
        "\n",
        "UnicodeEncodeError => Raised when a Unicode-related error occurs during encoding.\n",
        "\n",
        "UnicodeDecodeError => Raised when a Unicode-related error occurs during decoding.\n",
        "\n",
        "UnicodeTranslateError => Raised when a Unicode-related error occurs during translating.\n",
        "\n",
        "ValueError => Raised when a function gets an argument of correct type but improper value.\n",
        "\n",
        "ZeroDivisionError => Raised when the second operand of division or modulo operation is zero."
      ],
      "cell_type": "markdown",
      "metadata": {}
    },
    {
      "cell_type": "code",
      "execution_count": 1,
      "metadata": {},
      "outputs": [
        {
          "output_type": "stream",
          "name": "stdout",
          "text": [
            "Simple Calculator\n",
            "Select the operation to be performed:\n",
            "2 + 4 = 6\n"
          ]
        }
      ],
      "source": [
        "# Task 2\n",
        "print(\"Simple Calculator\")\n",
        "print(\"Select the operation to be performed:\")\n",
        "operation = input(\"Enter operator to use:\")\n",
        "opr_1 = int(input(\"Enter first number: \"))\n",
        "opr_2 = int(input(\"Enter second number: \"))\n",
        "try:\n",
        "    if operation == '+':\n",
        "       print(opr_1,\"+\",opr_2,\"=\", opr_1+opr_2)\n",
        "    elif operation == '-':\n",
        "       print(opr_1,\"-\",opr_2,\"=\", opr_1-opr_2)\n",
        "    elif operation == '*':\n",
        "       print(opr_1,\"*\",opr_2,\"=\", opr_1*opr_2)\n",
        "    elif operation == '/':\n",
        "       print(opr_1,\"/\",opr_2,\"=\", opr_1/opr_2)\n",
        "    else:\n",
        "       print(\"Please enter a valid operation\")\n",
        "except Exception as e:\n",
        "            print(\"Error : {}\".format(str(e)))\n"
      ]
    },
    {
      "cell_type": "code",
      "execution_count": 1,
      "metadata": {},
      "outputs": [
        {
          "output_type": "stream",
          "name": "stdout",
          "text": [
            "Variable x is not defined\n"
          ]
        }
      ],
      "source": [
        "# Task 3\n",
        "try:\n",
        "  print(x)\n",
        "except NameError:\n",
        "  print(\"Variable x is not defined\")\n",
        "except:\n",
        "  print(\"Other Error\")"
      ]
    },
    {
      "cell_type": "code",
      "execution_count": 4,
      "metadata": {},
      "outputs": [
        {
          "output_type": "execute_result",
          "data": {
            "text/plain": [
              "'try-except is not used when expection handling is not required'"
            ]
          },
          "metadata": {},
          "execution_count": 4
        }
      ],
      "source": [
        "# Task 4\n",
        "\"\"\"try-except is not used when expection handling is not required\"\"\""
      ]
    },
    {
      "cell_type": "code",
      "execution_count": 8,
      "metadata": {},
      "outputs": [
        {
          "output_type": "stream",
          "name": "stdout",
          "text": [
            "Error no Number was entered\n"
          ]
        }
      ],
      "source": [
        "# Task 5\n",
        "x = 10\n",
        "try:\n",
        "    x = int(input())\n",
        "    print(x)\n",
        "except:\n",
        "    print(\"Error no Number was entered\")"
      ]
    },
    {
      "source": [
        "### **Day 9 - 1 Dec 2020**"
      ],
      "cell_type": "markdown",
      "metadata": {}
    },
    {
      "cell_type": "code",
      "execution_count": 9,
      "metadata": {},
      "outputs": [
        {
          "output_type": "stream",
          "name": "stdout",
          "text": [
            "20\n"
          ]
        }
      ],
      "source": [
        "# Task 1\n",
        "a = lambda x, y : x * y\n",
        "print(a(2, 10))"
      ]
    },
    {
      "cell_type": "code",
      "execution_count": 10,
      "metadata": {},
      "outputs": [
        {
          "output_type": "stream",
          "name": "stdout",
          "text": [
            "Fibonacci series upto 10: [0, 1, 1, 2, 3, 5, 8, 13, 21]\n"
          ]
        }
      ],
      "source": [
        "# Task 2\n",
        "from functools import reduce\n",
        "fibonacci = lambda n: reduce(lambda x, _: x+[x[-1]+x[-2]], range(n-2), [0, 1])\n",
        " \n",
        "print(\"Fibonacci series upto 10:\", fibonacci(9))"
      ]
    },
    {
      "cell_type": "code",
      "execution_count": 11,
      "metadata": {},
      "outputs": [
        {
          "output_type": "stream",
          "name": "stdout",
          "text": [
            "The original list is [2, 4, 6, 9, 11]\nThe list after multiplying by 2 is [4, 8, 12, 18, 22]\n"
          ]
        }
      ],
      "source": [
        "# Task 3\n",
        "nums = [2, 4, 6, 9 , 11]\n",
        "x = 2\n",
        "print(\"The original list is\", nums)\n",
        "nums_updated = list(map(lambda y:y*x, nums))\n",
        "print(\"The list after multiplying by 2 is\", nums_updated)"
      ]
    },
    {
      "cell_type": "code",
      "execution_count": 14,
      "metadata": {},
      "outputs": [
        {
          "output_type": "stream",
          "name": "stdout",
          "text": [
            "The numbers divisible by 9 are: 18 36 "
          ]
        }
      ],
      "source": [
        "# Task 4\n",
        "nums = [2, 18, 4, 36]\n",
        "print(\"The numbers divisible by 9 are:\", end=\" \")\n",
        "for i in nums: \n",
        "    if i % 9 == 0: \n",
        "        print(i, end=\" \")"
      ]
    },
    {
      "cell_type": "code",
      "execution_count": 15,
      "metadata": {},
      "outputs": [
        {
          "output_type": "stream",
          "name": "stdout",
          "text": [
            "The even numbers in the list are: 4 36 "
          ]
        }
      ],
      "source": [
        "# Task 5\n",
        "nums = [3, 19, 4, 36]\n",
        "print(\"The even numbers in the list are:\", end=\" \")\n",
        "for i in nums:\n",
        "    if i % 2 == 0: \n",
        "        print(i, end=\" \")"
      ]
    },
    {
      "source": [
        "### **Day 10 - 2 Dec 2020**"
      ],
      "cell_type": "markdown",
      "metadata": {}
    },
    {
      "cell_type": "code",
      "execution_count": 3,
      "metadata": {},
      "outputs": [
        {
          "output_type": "stream",
          "name": "stdout",
          "text": [
            "False\nTrue\n"
          ]
        }
      ],
      "source": [
        "# Task 1\n",
        "import re\n",
        "print(bool(re.match(\"^[A-Za-z0-9_-]*$\", 'This will give ans as 0 or false')))\n",
        "print(bool(re.match(\"^[A-Za-z0-9_-]*$\", 'ThisWillGiveAnsAsTrueOr1')))"
      ]
    },
    {
      "cell_type": "code",
      "execution_count": 10,
      "metadata": {},
      "outputs": [
        {
          "output_type": "stream",
          "name": "stdout",
          "text": [
            "abnormal\nNo word found with 'ab' init\n"
          ]
        }
      ],
      "source": [
        "# Task 2\n",
        "import re\n",
        "string1 = \"This will give abnormal as ans\"\n",
        "string2 = \"This will return No word found\"\n",
        "\n",
        "def word_checker(string) :\n",
        "    regex = re.compile(\"ab+\\w*\")\n",
        "    word_found = regex.findall(string)\n",
        "    if len(word_found) != 0 : \n",
        "        for word in word_found : \n",
        "            print(word)\n",
        "    else : \n",
        "        print(\"No word found with 'ab' init\")\n",
        "\n",
        "word_checker(string1)\n",
        "word_checker(string2)"
      ]
    },
    {
      "cell_type": "code",
      "execution_count": 15,
      "metadata": {},
      "outputs": [
        {
          "output_type": "stream",
          "name": "stdout",
          "text": [
            "Found a number at the end of string\nDidn't find a number at the end of string\n"
          ]
        }
      ],
      "source": [
        "# Task 3\n",
        "import re\n",
        "def check_num_at_end(string):\n",
        "    regex = re.compile(r\".*[0-9]$\")\n",
        "    if regex.match(string):\n",
        "        print(\"Found a number at the end of string\")\n",
        "    else:\n",
        "        print(\"Didn't find a number at the end of string\")\n",
        "\n",
        "check_num_at_end('Vishal99')\n",
        "check_num_at_end('Vishal')"
      ]
    },
    {
      "cell_type": "code",
      "execution_count": 43,
      "metadata": {},
      "outputs": [
        {
          "output_type": "stream",
          "name": "stdout",
          "text": [
            "['100', '293', '290', '93', '929', '39']\n"
          ]
        }
      ],
      "source": [
        "# Task 4\n",
        "import re\n",
        "string = \"100asdfsdf293290sdfds93asdf92939\"\n",
        "array = re.findall(r'[0-9]{1,3}', string)\n",
        "print(array)"
      ]
    },
    {
      "cell_type": "code",
      "execution_count": 46,
      "metadata": {},
      "outputs": [
        {
          "output_type": "stream",
          "name": "stdout",
          "text": [
            "Found uppercase letters in the string\nNo uppercase letters were found in the string\n"
          ]
        }
      ],
      "source": [
        "# Task 5\n",
        "import re\n",
        "def check_uppercase_letters(string):\n",
        "    regex = '^[A-Z]*$'\n",
        "    if re.search(regex, string):\n",
        "        print(\"Found uppercase letters in the string\")\n",
        "    else:\n",
        "        print(\"No uppercase letters were found in the string\")\n",
        "\n",
        "check_uppercase_letters(\"THESEAREUPPERCASELETTERS\")\n",
        "check_uppercase_letters(\"thesearelowercaseletters\")"
      ]
    },
    {
      "source": [
        "### **Day 11 - 3 Dec 2020**"
      ],
      "cell_type": "markdown",
      "metadata": {}
    },
    {
      "cell_type": "code",
      "execution_count": 1,
      "metadata": {},
      "outputs": [
        {
          "output_type": "stream",
          "name": "stdout",
          "text": [
            "[(34, 45), (32, 675), (55, 32)]\n"
          ]
        }
      ],
      "source": [
        "# Task 1\n",
        "nums1 = [34, 32, 55, 234, 546]\n",
        "nums2 = [45, 675, 32]\n",
        "zipped_list = list(zip(nums1, nums2))  \n",
        "print(zipped_list)"
      ]
    },
    {
      "cell_type": "code",
      "execution_count": 3,
      "metadata": {},
      "outputs": [
        {
          "output_type": "stream",
          "name": "stdout",
          "text": [
            "[(1, 34), (2, 32), (3, 55), (4, 234), (5, 546), (6, 45), (7, 675)]\n"
          ]
        }
      ],
      "source": [
        "# Task 2\n",
        "nums = [x for x in range(1, 8)]\n",
        "nums1 = [34, 32, 55, 234, 546, 45, 675, 32]\n",
        "zipped_list = list(zip(nums, nums1))\n",
        "print(zipped_list)"
      ]
    },
    {
      "cell_type": "code",
      "execution_count": 4,
      "metadata": {},
      "outputs": [
        {
          "output_type": "stream",
          "name": "stdout",
          "text": [
            "[32, 32, 34, 45, 55, 234, 546, 675]\n"
          ]
        }
      ],
      "source": [
        "# Task 3\n",
        "print(sorted(nums1))"
      ]
    },
    {
      "cell_type": "code",
      "execution_count": 5,
      "metadata": {},
      "outputs": [
        {
          "output_type": "stream",
          "name": "stdout",
          "text": [
            "[55, 45, 675]\n"
          ]
        }
      ],
      "source": [
        "# Task 4\n",
        "odd_nums = list(filter(lambda x:x%2!=0, nums1))\n",
        "print(odd_nums)"
      ]
    }
  ]
}